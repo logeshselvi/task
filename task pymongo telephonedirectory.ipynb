{
 "cells": [
  {
   "cell_type": "code",
   "execution_count": 1,
   "id": "de37b7a2",
   "metadata": {},
   "outputs": [],
   "source": [
    "import pymongo as pym"
   ]
  },
  {
   "cell_type": "code",
   "execution_count": 2,
   "id": "ac9265d6",
   "metadata": {},
   "outputs": [],
   "source": [
    "client = pym.MongoClient('mongodb://127.0.0.1:27017/')"
   ]
  },
  {
   "cell_type": "code",
   "execution_count": 3,
   "id": "edafce30",
   "metadata": {},
   "outputs": [],
   "source": [
    "db = client['task2']\n"
   ]
  },
  {
   "cell_type": "markdown",
   "id": "8706a7f6",
   "metadata": {},
   "source": [
    "# inserting data"
   ]
  },
  {
   "cell_type": "code",
   "execution_count": 4,
   "id": "8012c214",
   "metadata": {},
   "outputs": [],
   "source": [
    "information = db.telephonedirectory"
   ]
  },
  {
   "cell_type": "code",
   "execution_count": 5,
   "id": "a700baaa",
   "metadata": {},
   "outputs": [],
   "source": [
    "records = [{'name' : \"tom\",\n",
    "            'place' : 'newyork',\n",
    "            'phone':9876543210,\n",
    "            'age':14\n",
    "           },\n",
    "           {'name' : \"jerry\",\n",
    "            'place' : 'newyork',\n",
    "            'phone':9876345210,\n",
    "            'age':11\n",
    "           },{'name' : \"thor\",\n",
    "            'place' : 'asgurd',\n",
    "            'phone':9876541203,\n",
    "            'age':950\n",
    "           },{'name' : \"tony stark\",\n",
    "            'place' : 'avengers tower',\n",
    "            'phone':9876540123,\n",
    "            'age':58\n",
    "           },{'name' : \"peter parker\",\n",
    "            'place' : 'newyork',\n",
    "            'phone':7896543210,\n",
    "            'age':21\n",
    "           },{'name' : \"nobita\",\n",
    "            'place' : 'nerima ward,tokyo',\n",
    "            'phone':8976543210,\n",
    "            'age':16\n",
    "           },{'name' : \"doremon\",\n",
    "            'place' : 'nerima ward,tokyo',\n",
    "            'phone':8876543210,\n",
    "            'age':16\n",
    "           },{'name' : \"gion\",\n",
    "            'place' : 'nerima ward,tokyo',\n",
    "            'phone':9877543210,\n",
    "            'age':14\n",
    "           },{'name' : \"luca\",\n",
    "            'place' : 'portorosso,italy',\n",
    "            'phone':9876443210,\n",
    "            'age':14\n",
    "           },{'name' : \"alberto\",\n",
    "            'place' : 'portorosso,italy',\n",
    "            'phone':9876553210,\n",
    "            'age':14\n",
    "           },{'name' : \"kick buttowski\",\n",
    "            'place' : 'karaikudi',\n",
    "            'phone':9876543211,\n",
    "              'age': 10,\n",
    "         \n",
    "    \n",
    "}]"
   ]
  },
  {
   "cell_type": "code",
   "execution_count": 6,
   "id": "14cb4ee9",
   "metadata": {},
   "outputs": [
    {
     "data": {
      "text/plain": [
       "<pymongo.results.InsertManyResult at 0x1c489225340>"
      ]
     },
     "execution_count": 6,
     "metadata": {},
     "output_type": "execute_result"
    }
   ],
   "source": [
    "information.insert_many(records)"
   ]
  },
  {
   "cell_type": "code",
   "execution_count": 12,
   "id": "d226063f",
   "metadata": {},
   "outputs": [
    {
     "name": "stdout",
     "output_type": "stream",
     "text": [
      "{'_id': ObjectId('6367bd39dfdb3d43918b7e34'), 'name': 'tom', 'place': 'newyork,USA', 'phone': 9191222199, 'age': 15}\n",
      "{'_id': ObjectId('6367bd39dfdb3d43918b7e35'), 'name': 'jerry', 'place': 'newyork,USA', 'phone': 9191919199, 'age': 12}\n",
      "{'_id': ObjectId('6367bd39dfdb3d43918b7e37'), 'name': 'tony stark', 'place': 'avengers tower', 'phone': 9876540123, 'age': 58}\n",
      "{'_id': ObjectId('6367bd39dfdb3d43918b7e38'), 'name': 'peter parker', 'place': 'newyork,USA', 'phone': 7896543210, 'age': 21}\n",
      "{'_id': ObjectId('6367bd39dfdb3d43918b7e3c'), 'name': 'luca', 'place': 'portorosso,italy', 'phone': 9876443210, 'age': 14}\n",
      "{'_id': ObjectId('6367bd39dfdb3d43918b7e3d'), 'name': 'alberto', 'place': 'portorosso,italy', 'phone': 9876553210, 'age': 14}\n",
      "{'_id': ObjectId('6367bd39dfdb3d43918b7e3e'), 'name': 'kick buttowski', 'place': 'karaikudi', 'phone': 9876543211}\n"
     ]
    }
   ],
   "source": [
    "for i in information.find():\n",
    "    print(i)"
   ]
  },
  {
   "cell_type": "code",
   "execution_count": 8,
   "id": "1cd368c8",
   "metadata": {},
   "outputs": [
    {
     "data": {
      "text/plain": [
       "{'_id': ObjectId('6367bd39dfdb3d43918b7e34'),\n",
       " 'name': 'tom',\n",
       " 'place': 'newyork,USA',\n",
       " 'phone': 9191222199,\n",
       " 'age': 15}"
      ]
     },
     "execution_count": 8,
     "metadata": {},
     "output_type": "execute_result"
    }
   ],
   "source": [
    "information.find_one()"
   ]
  },
  {
   "cell_type": "code",
   "execution_count": 18,
   "id": "e17b08d1",
   "metadata": {},
   "outputs": [
    {
     "data": {
      "text/plain": [
       "{'_id': ObjectId('6367bdc7dfdb3d43918b7e49'),\n",
       " 'name': 'kick buttowski',\n",
       " 'place': 'karaikudi',\n",
       " 'phone': 9876543211,\n",
       " 'age': 10}"
      ]
     },
     "execution_count": 18,
     "metadata": {},
     "output_type": "execute_result"
    }
   ],
   "source": [
    "information.find_one({'age':10})"
   ]
  },
  {
   "cell_type": "code",
   "execution_count": 20,
   "id": "8d502e63",
   "metadata": {},
   "outputs": [
    {
     "name": "stdout",
     "output_type": "stream",
     "text": [
      "{'_id': ObjectId('6367bd39dfdb3d43918b7e34'), 'name': 'tom', 'place': 'newyork', 'phone': 9876543210, 'age': 14}\n",
      "{'_id': ObjectId('6367bd39dfdb3d43918b7e35'), 'name': 'jerry', 'place': 'newyork', 'phone': 9876345210, 'age': 11}\n",
      "{'_id': ObjectId('6367bd39dfdb3d43918b7e38'), 'name': 'peter parker', 'place': 'newyork', 'phone': 7896543210, 'age': 21}\n"
     ]
    }
   ],
   "source": [
    "for i in information.find({\"place\":\"newyork\"}):\n",
    "          print(i)"
   ]
  },
  {
   "cell_type": "code",
   "execution_count": 22,
   "id": "e29f3df5",
   "metadata": {},
   "outputs": [
    {
     "name": "stdout",
     "output_type": "stream",
     "text": [
      "{'_id': ObjectId('6367bd39dfdb3d43918b7e36'), 'name': 'thor', 'place': 'asgurd', 'phone': 9876541203, 'age': 950}\n",
      "{'_id': ObjectId('6367bd39dfdb3d43918b7e37'), 'name': 'tony stark', 'place': 'avengers tower', 'phone': 9876540123, 'age': 58}\n",
      "{'_id': ObjectId('6367bd39dfdb3d43918b7e38'), 'name': 'peter parker', 'place': 'newyork', 'phone': 7896543210, 'age': 21}\n"
     ]
    }
   ],
   "source": [
    "for i in information.find({\"age\":{'$gte':20}}):\n",
    "    print(i)"
   ]
  },
  {
   "cell_type": "code",
   "execution_count": 23,
   "id": "d88434de",
   "metadata": {},
   "outputs": [
    {
     "name": "stdout",
     "output_type": "stream",
     "text": [
      "{'_id': ObjectId('6367bd39dfdb3d43918b7e34'), 'name': 'tom', 'place': 'newyork', 'phone': 9876543210, 'age': 14}\n",
      "{'_id': ObjectId('6367bd39dfdb3d43918b7e35'), 'name': 'jerry', 'place': 'newyork', 'phone': 9876345210, 'age': 11}\n",
      "{'_id': ObjectId('6367bd39dfdb3d43918b7e39'), 'name': 'nobita', 'place': 'nerima ward,tokyo', 'phone': 8976543210, 'age': 16}\n",
      "{'_id': ObjectId('6367bd39dfdb3d43918b7e3a'), 'name': 'doremon', 'place': 'nerima ward,tokyo', 'phone': 8876543210, 'age': 16}\n",
      "{'_id': ObjectId('6367bd39dfdb3d43918b7e3b'), 'name': 'gion', 'place': 'nerima ward,tokyo', 'phone': 9877543210, 'age': 14}\n",
      "{'_id': ObjectId('6367bd39dfdb3d43918b7e3c'), 'name': 'luca', 'place': 'portorosso,italy', 'phone': 9876443210, 'age': 14}\n",
      "{'_id': ObjectId('6367bd39dfdb3d43918b7e3d'), 'name': 'alberto', 'place': 'portorosso,italy', 'phone': 9876553210, 'age': 14}\n",
      "{'_id': ObjectId('6367bdc7dfdb3d43918b7e48'), 'name': 'alberto', 'place': 'portorosso,italy', 'phone': 9876553210, 'age': 14}\n",
      "{'_id': ObjectId('6367bdc7dfdb3d43918b7e49'), 'name': 'kick buttowski', 'place': 'karaikudi', 'phone': 9876543211, 'age': 10}\n"
     ]
    }
   ],
   "source": [
    "for i in information.find({\"age\":{'$lt':18}}):\n",
    "    print(i)"
   ]
  },
  {
   "cell_type": "markdown",
   "id": "f3753505",
   "metadata": {},
   "source": [
    "# update one"
   ]
  },
  {
   "cell_type": "code",
   "execution_count": 26,
   "id": "799a3d76",
   "metadata": {},
   "outputs": [
    {
     "data": {
      "text/plain": [
       "<pymongo.results.UpdateResult at 0x1286371a100>"
      ]
     },
     "execution_count": 26,
     "metadata": {},
     "output_type": "execute_result"
    }
   ],
   "source": [
    "information.update_one({\"name\":\"jerry\"},{'$set':{'age':12,'phone':9191919199}})"
   ]
  },
  {
   "cell_type": "code",
   "execution_count": 27,
   "id": "2cc9607f",
   "metadata": {},
   "outputs": [
    {
     "name": "stdout",
     "output_type": "stream",
     "text": [
      "{'_id': ObjectId('6367bd39dfdb3d43918b7e35'), 'name': 'jerry', 'place': 'newyork', 'phone': 9191919199, 'age': 12}\n"
     ]
    }
   ],
   "source": [
    "for i in information.find({\"name\":\"jerry\"}):\n",
    "    print(i)"
   ]
  },
  {
   "cell_type": "code",
   "execution_count": 28,
   "id": "b143bb8a",
   "metadata": {},
   "outputs": [
    {
     "data": {
      "text/plain": [
       "<pymongo.results.UpdateResult at 0x128635527f0>"
      ]
     },
     "execution_count": 28,
     "metadata": {},
     "output_type": "execute_result"
    }
   ],
   "source": [
    "information.update_one({\"name\":\"tom\"},{'$set':{'age':15,'phone':9191222199}})"
   ]
  },
  {
   "cell_type": "code",
   "execution_count": 29,
   "id": "7273c043",
   "metadata": {},
   "outputs": [
    {
     "name": "stdout",
     "output_type": "stream",
     "text": [
      "{'_id': ObjectId('6367bd39dfdb3d43918b7e34'), 'name': 'tom', 'place': 'newyork', 'phone': 9191222199, 'age': 15}\n"
     ]
    }
   ],
   "source": [
    "for i in information.find({'name':'tom'}):\n",
    "    print(i)"
   ]
  },
  {
   "cell_type": "markdown",
   "id": "b5c00b99",
   "metadata": {},
   "source": [
    "# update many"
   ]
  },
  {
   "cell_type": "code",
   "execution_count": 30,
   "id": "aaf9614d",
   "metadata": {},
   "outputs": [
    {
     "data": {
      "text/plain": [
       "<pymongo.results.UpdateResult at 0x12863775760>"
      ]
     },
     "execution_count": 30,
     "metadata": {},
     "output_type": "execute_result"
    }
   ],
   "source": [
    "information.update_many({\"place\":\"newyork\"},{'$set':{'place':'newyork,USA'}})"
   ]
  },
  {
   "cell_type": "code",
   "execution_count": 32,
   "id": "e1d901ab",
   "metadata": {},
   "outputs": [
    {
     "name": "stdout",
     "output_type": "stream",
     "text": [
      "{'_id': ObjectId('6367bd39dfdb3d43918b7e34'), 'name': 'tom', 'place': 'newyork,USA', 'phone': 9191222199, 'age': 15}\n",
      "{'_id': ObjectId('6367bd39dfdb3d43918b7e35'), 'name': 'jerry', 'place': 'newyork,USA', 'phone': 9191919199, 'age': 12}\n",
      "{'_id': ObjectId('6367bd39dfdb3d43918b7e38'), 'name': 'peter parker', 'place': 'newyork,USA', 'phone': 7896543210, 'age': 21}\n"
     ]
    }
   ],
   "source": [
    "for i in information.find({'place':'newyork,USA'}):\n",
    "    print(i)"
   ]
  },
  {
   "cell_type": "markdown",
   "id": "25a27c53",
   "metadata": {},
   "source": [
    "# delete a data in database"
   ]
  },
  {
   "cell_type": "code",
   "execution_count": 33,
   "id": "e740240a",
   "metadata": {},
   "outputs": [
    {
     "data": {
      "text/plain": [
       "<pymongo.results.DeleteResult at 0x12863725cd0>"
      ]
     },
     "execution_count": 33,
     "metadata": {},
     "output_type": "execute_result"
    }
   ],
   "source": [
    "information.delete_one({\"name\":'thor'})"
   ]
  },
  {
   "cell_type": "code",
   "execution_count": 13,
   "id": "97680223",
   "metadata": {},
   "outputs": [
    {
     "name": "stdout",
     "output_type": "stream",
     "text": [
      "{'_id': ObjectId('6367bd39dfdb3d43918b7e34'), 'name': 'tom', 'place': 'newyork,USA', 'phone': 9191222199, 'age': 15}\n",
      "{'_id': ObjectId('6367bd39dfdb3d43918b7e35'), 'name': 'jerry', 'place': 'newyork,USA', 'phone': 9191919199, 'age': 12}\n",
      "{'_id': ObjectId('6367bd39dfdb3d43918b7e37'), 'name': 'tony stark', 'place': 'avengers tower', 'phone': 9876540123, 'age': 58}\n",
      "{'_id': ObjectId('6367bd39dfdb3d43918b7e38'), 'name': 'peter parker', 'place': 'newyork,USA', 'phone': 7896543210, 'age': 21}\n",
      "{'_id': ObjectId('6367bd39dfdb3d43918b7e3c'), 'name': 'luca', 'place': 'portorosso,italy', 'phone': 9876443210, 'age': 14}\n",
      "{'_id': ObjectId('6367bd39dfdb3d43918b7e3d'), 'name': 'alberto', 'place': 'portorosso,italy', 'phone': 9876553210, 'age': 14}\n",
      "{'_id': ObjectId('6367bd39dfdb3d43918b7e3e'), 'name': 'kick buttowski', 'place': 'karaikudi', 'phone': 9876543211}\n"
     ]
    }
   ],
   "source": [
    "for i in information.find():\n",
    "    print(i)"
   ]
  },
  {
   "cell_type": "markdown",
   "id": "daed7c2e",
   "metadata": {},
   "source": [
    "#  delete a manydata in database"
   ]
  },
  {
   "cell_type": "code",
   "execution_count": 9,
   "id": "2693d307",
   "metadata": {},
   "outputs": [
    {
     "data": {
      "text/plain": [
       "<pymongo.results.DeleteResult at 0x1c4890dbbe0>"
      ]
     },
     "execution_count": 9,
     "metadata": {},
     "output_type": "execute_result"
    }
   ],
   "source": [
    "information.delete_many({\"place\":\"nerima ward,tokyo\"})"
   ]
  },
  {
   "cell_type": "code",
   "execution_count": 14,
   "id": "a9d38576",
   "metadata": {},
   "outputs": [
    {
     "name": "stdout",
     "output_type": "stream",
     "text": [
      "{'_id': ObjectId('6367bd39dfdb3d43918b7e34'), 'name': 'tom', 'place': 'newyork,USA', 'phone': 9191222199, 'age': 15}\n",
      "{'_id': ObjectId('6367bd39dfdb3d43918b7e35'), 'name': 'jerry', 'place': 'newyork,USA', 'phone': 9191919199, 'age': 12}\n",
      "{'_id': ObjectId('6367bd39dfdb3d43918b7e37'), 'name': 'tony stark', 'place': 'avengers tower', 'phone': 9876540123, 'age': 58}\n",
      "{'_id': ObjectId('6367bd39dfdb3d43918b7e38'), 'name': 'peter parker', 'place': 'newyork,USA', 'phone': 7896543210, 'age': 21}\n",
      "{'_id': ObjectId('6367bd39dfdb3d43918b7e3c'), 'name': 'luca', 'place': 'portorosso,italy', 'phone': 9876443210, 'age': 14}\n",
      "{'_id': ObjectId('6367bd39dfdb3d43918b7e3d'), 'name': 'alberto', 'place': 'portorosso,italy', 'phone': 9876553210, 'age': 14}\n",
      "{'_id': ObjectId('6367bd39dfdb3d43918b7e3e'), 'name': 'kick buttowski', 'place': 'karaikudi', 'phone': 9876543211}\n"
     ]
    }
   ],
   "source": [
    "for i in information.find():\n",
    "    print(i)"
   ]
  },
  {
   "cell_type": "code",
   "execution_count": 15,
   "id": "67c3a777",
   "metadata": {},
   "outputs": [
    {
     "data": {
      "text/plain": [
       "<pymongo.results.DeleteResult at 0x1c4878520a0>"
      ]
     },
     "execution_count": 15,
     "metadata": {},
     "output_type": "execute_result"
    }
   ],
   "source": [
    "# if want to delete all\n",
    "information.delete_many({})"
   ]
  },
  {
   "cell_type": "code",
   "execution_count": null,
   "id": "41ba3e93",
   "metadata": {},
   "outputs": [],
   "source": []
  }
 ],
 "metadata": {
  "kernelspec": {
   "display_name": "Python 3 (ipykernel)",
   "language": "python",
   "name": "python3"
  },
  "language_info": {
   "codemirror_mode": {
    "name": "ipython",
    "version": 3
   },
   "file_extension": ".py",
   "mimetype": "text/x-python",
   "name": "python",
   "nbconvert_exporter": "python",
   "pygments_lexer": "ipython3",
   "version": "3.9.12"
  }
 },
 "nbformat": 4,
 "nbformat_minor": 5
}
